{
 "cells": [
  {
   "cell_type": "code",
   "execution_count": 1,
   "metadata": {},
   "outputs": [],
   "source": [
    "import numpy as np\n",
    "import spacy\n",
    "import json\n",
    "import matplotlib.pyplot as plt\n",
    "\n",
    "from spacy.vectors import Vectors\n",
    "\n",
    "from scipy.spatial import distance"
   ]
  },
  {
   "cell_type": "code",
   "execution_count": 2,
   "metadata": {},
   "outputs": [],
   "source": [
    "nlp = spacy.load('en_core_web_lg')"
   ]
  },
  {
   "cell_type": "code",
   "execution_count": 31,
   "metadata": {},
   "outputs": [],
   "source": [
    "def alter(token, wonkiness):\n",
    "    vec = token.vector.reshape(1, -1)\n",
    "    if wonkiness == 0:\n",
    "        return nlp.vocab[token.text]\n",
    "    key = nlp.vocab.vectors.most_similar(vec, n=wonkiness)[0][:, wonkiness-1]\n",
    "    return nlp.vocab[key]"
   ]
  },
  {
   "cell_type": "code",
   "execution_count": 3,
   "metadata": {},
   "outputs": [],
   "source": [
    "VOWELS = 'aeiouy'\n",
    "def hyphen8(word):\n",
    "    first_vowels = list(filter(lambda x: x!=-1, [word.lower().find(v) for v in VOWELS]))\n",
    "    return '-'.join((int(abs(np.random.randn()*2))+1) * [word[:min(first_vowels)]]) + word[min(first_vowels):] if (len(word)>2 and len(first_vowels)>0 and word[0].isalpha()) and word[0].lower() not in VOWELS else word\n"
   ]
  },
  {
   "cell_type": "code",
   "execution_count": 5,
   "metadata": {},
   "outputs": [
    {
     "ename": "NameError",
     "evalue": "name 'alter' is not defined",
     "output_type": "error",
     "traceback": [
      "\u001b[0;31m---------------------------------------------------------------------------\u001b[0m",
      "\u001b[0;31mNameError\u001b[0m                                 Traceback (most recent call last)",
      "\u001b[0;32m<ipython-input-5-5bd8345a4f20>\u001b[0m in \u001b[0;36m<module>\u001b[0;34m\u001b[0m\n\u001b[1;32m      8\u001b[0m         \u001b[0mdebug\u001b[0m \u001b[0;34m=\u001b[0m \u001b[0;32mFalse\u001b[0m\u001b[0;34m\u001b[0m\u001b[0;34m\u001b[0m\u001b[0m\n\u001b[1;32m      9\u001b[0m         \u001b[0mdebug_data\u001b[0m \u001b[0;34m=\u001b[0m \u001b[0;34mf'({repr(token.text)}, {wonkiness})'\u001b[0m \u001b[0;32mif\u001b[0m \u001b[0mdebug\u001b[0m \u001b[0;32melse\u001b[0m \u001b[0;34m''\u001b[0m\u001b[0;34m\u001b[0m\u001b[0;34m\u001b[0m\u001b[0m\n\u001b[0;32m---> 10\u001b[0;31m         \u001b[0mprint\u001b[0m\u001b[0;34m(\u001b[0m\u001b[0mhyphen8\u001b[0m\u001b[0;34m(\u001b[0m\u001b[0malter\u001b[0m\u001b[0;34m(\u001b[0m\u001b[0mtoken\u001b[0m\u001b[0;34m,\u001b[0m \u001b[0mwonkiness\u001b[0m\u001b[0;34m)\u001b[0m\u001b[0;34m.\u001b[0m\u001b[0mtext\u001b[0m\u001b[0;34m)\u001b[0m \u001b[0;34m+\u001b[0m \u001b[0mdebug_data\u001b[0m\u001b[0;34m,\u001b[0m \u001b[0mend\u001b[0m\u001b[0;34m=\u001b[0m\u001b[0mtoken\u001b[0m\u001b[0;34m.\u001b[0m\u001b[0mwhitespace_\u001b[0m\u001b[0;34m)\u001b[0m\u001b[0;34m\u001b[0m\u001b[0;34m\u001b[0m\u001b[0m\n\u001b[0m",
      "\u001b[0;31mNameError\u001b[0m: name 'alter' is not defined"
     ]
    }
   ],
   "source": [
    "with open(\"h-aha.txt\", 'r') as f:\n",
    "    np.random.seed(8)\n",
    "    text = f.read()\n",
    "    parsed = nlp(text)\n",
    "    for token in parsed:\n",
    "        variation = 10\n",
    "        wonkiness = np.abs(int(variation * np.random.randn())) if not token.is_punct and token.vector_norm > 0.5 else 0\n",
    "        debug = False\n",
    "        debug_data = f'({repr(token.text)}, {wonkiness})' if debug else ''\n",
    "        print(hyphen8(alter(token, wonkiness).text) + debug_data, end=token.whitespace_)"
   ]
  },
  {
   "cell_type": "code",
   "execution_count": 6,
   "metadata": {},
   "outputs": [],
   "source": [
    "def fixed_point(token, n, previous_lexeme):\n",
    "    vec = token.vector.reshape(1, -1)\n",
    "    most_sim = nlp.vocab.vectors.most_similar(vec, n=n, sort=True)\n",
    "    for key, best_row, score in zip(list(most_sim[0].T),list(most_sim[1].T),list(most_sim[2].T)):\n",
    "        if nlp.vocab[key[0]] not in previous_lexeme:\n",
    "            return (nlp.vocab[key[0]], score)\n",
    "    return fixed_point(token, 2*n, previous_lexeme)"
   ]
  },
  {
   "cell_type": "code",
   "execution_count": 7,
   "metadata": {},
   "outputs": [],
   "source": [
    "def dist(base, other):\n",
    "    return np.linalg.norm(base.vector - other.vector)"
   ]
  },
  {
   "cell_type": "code",
   "execution_count": 9,
   "metadata": {},
   "outputs": [
    {
     "name": "stdout",
     "output_type": "stream",
     "text": [
      "alex [1] -14.009199142456055\n",
      "ALex [1.] -19.401931762695312\n",
      "ALEX [1.] -15.768808364868164\n",
      "Alex [1.] -11.473919868469238\n",
      "DAVID [0.7438] -15.50130558013916\n",
      "david [0.7438] -13.840484619140625\n",
      "David [0.7438] -10.773605346679688\n",
      "aaron [0.7385] -15.356907844543457\n",
      "AARON [0.7385] -16.33611488342285\n",
      "Aaron [0.7385] -12.17636775970459\n",
      "AAron [0.7385] -19.298599243164062\n",
      "DANIEL [0.7358] -16.169580459594727\n",
      "daniel [0.7358] -15.146158218383789\n",
      "Daniel [0.7358] -11.849488258361816\n",
      "ANDREW [0.7339] -16.447378158569336\n",
      "andrew [0.7339] -15.177189826965332\n",
      "Andrew [0.7339] -12.033087730407715\n",
      "andy [0.7197] -14.73090934753418\n",
      "ANDY [0.7197] -15.87509536743164\n",
      "Andy [0.7197] -11.987010955810547\n",
      "brian [0.7144] -14.567431449890137\n",
      "Brian [0.7144] -11.717720985412598\n",
      "BRIAN [0.7144] -15.902262687683105\n",
      "Chris [0.7119] -10.96609878540039\n",
      "CHRIS [0.7119] -15.154556274414062\n"
     ]
    }
   ],
   "source": [
    "previous_lexeme = set()\n",
    "start = nlp.vocab[\"alex\"]\n",
    "number = start\n",
    "score = [1]\n",
    "nums = []\n",
    "scores = []\n",
    "for i in range(25):\n",
    "    print(number.text, score, number.prob)\n",
    "    #nums.append(int(number.text))\n",
    "    scores.append(score[0])\n",
    "    previous_lexeme.add(number)\n",
    "    number, score = fixed_point(start, 10, previous_lexeme)"
   ]
  },
  {
   "cell_type": "code",
   "execution_count": 18,
   "metadata": {},
   "outputs": [
    {
     "data": {
      "image/png": "[encoded data removed]",
      "text/plain": [
       "<Figure size 432x288 with 2 Axes>"
      ]
     },
     "metadata": {
      "needs_background": "light"
     },
     "output_type": "display_data"
    }
   ],
   "source": [
    "fig, ax1 = plt.subplots()\n",
    "ax1.plot(nums)\n",
    "ax2 = ax1.twinx()\n",
    "ax2.plot(scores, c='r')\n",
    "fig.show()"
   ]
  },
  {
   "cell_type": "code",
   "execution_count": 218,
   "metadata": {},
   "outputs": [],
   "source": [
    "idx2str = {}\n",
    "for string in nlp.vocab.strings:\n",
    "    if nlp.vocab[string].has_vector:\n",
    "        key = nlp.vocab.vectors.key2row[spacy.strings.hash_string(string)]\n",
    "        if key in idx2str:\n",
    "            idx2str[key] += [string]\n",
    "        else:\n",
    "            idx2str[key] = [string]"
   ]
  },
  {
   "cell_type": "code",
   "execution_count": 246,
   "metadata": {},
   "outputs": [],
   "source": [
    "def closest_l2(X, n):\n",
    "    norms = np.linalg.norm(X, axis=1)\n",
    "    smallest_norms = np.argsort(norms)[:n]\n",
    "    return [(X[i], idx2str[i]) for i in smallest_norms]\n",
    "\n",
    "def shifted(vec, direction):\n",
    "    shifted_data = nlp.vocab.vectors.data - vec.reshape((1,-1))\n",
    "    origin_moved = Vectors(data=shifted_data, keys=nlp.vocab.vectors.keys())\n",
    "    return [[nlp.vocab[s].text for s in s_list] for v, s_list in closest_l2(origin_moved.data, 10)]"
   ]
  },
  {
   "cell_type": "code",
   "execution_count": 247,
   "metadata": {},
   "outputs": [
    {
     "name": "stdout",
     "output_type": "stream",
     "text": [
      "684831\n"
     ]
    },
    {
     "data": {
      "text/plain": [
       "[['sacramento'],\n",
       " ['SACRAMENTO'],\n",
       " ['Sacramento'],\n",
       " ['FRESNO'],\n",
       " ['fresno'],\n",
       " ['Fresno'],\n",
       " ['DIEGO'],\n",
       " ['diego'],\n",
       " ['Diego'],\n",
       " ['TUCSON']]"
      ]
     },
     "execution_count": 247,
     "metadata": {},
     "output_type": "execute_result"
    }
   ],
   "source": [
    "shifted(nlp.vocab['Sacramento'].vector, nlp.vocab['Virginia'].vector - nlp.vocab['Richmond'].vector)"
   ]
  },
  {
   "cell_type": "code",
   "execution_count": 250,
   "metadata": {},
   "outputs": [
    {
     "data": {
      "text/plain": [
       "[]"
      ]
     },
     "execution_count": 250,
     "metadata": {},
     "output_type": "execute_result"
    }
   ],
   "source": [
    "[ [np.array_equal(nlp.vocab.vectors.data[i,:], nlp.vocab[s].vector) for s in idx2str[i]] for i in idx2str.keys() if len(idx2str[i])>1]"
   ]
  }
 ],
 "metadata": {
  "kernelspec": {
   "display_name": "Python 3",
   "language": "python",
   "name": "python3"
  },
  "language_info": {
   "codemirror_mode": {
    "name": "ipython",
    "version": 3
   },
   "file_extension": ".py",
   "mimetype": "text/x-python",
   "name": "python",
   "nbconvert_exporter": "python",
   "pygments_lexer": "ipython3",
   "version": "3.7.6"
  }
 },
 "nbformat": 4,
 "nbformat_minor": 4
}
