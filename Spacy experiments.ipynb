{
 "cells": [
  {
   "cell_type": "code",
   "execution_count": 1,
   "metadata": {},
   "outputs": [],
   "source": [
    "import numpy as np\n",
    "import spacy\n",
    "import json"
   ]
  },
  {
   "cell_type": "code",
   "execution_count": 2,
   "metadata": {},
   "outputs": [],
   "source": [
    "nlp = spacy.load('en_core_web_lg')"
   ]
  },
  {
   "cell_type": "code",
   "execution_count": 31,
   "metadata": {},
   "outputs": [],
   "source": [
    "def alter(token, wonkiness):\n",
    "    vec = token.vector.reshape(1, -1)\n",
    "    if wonkiness == 0:\n",
    "        return nlp.vocab[token.text]\n",
    "    key = nlp.vocab.vectors.most_similar(vec, n=wonkiness)[0][:, wonkiness-1]\n",
    "    return nlp.vocab[key]"
   ]
  },
  {
   "cell_type": "code",
   "execution_count": 34,
   "metadata": {},
   "outputs": [],
   "source": [
    "VOWELS = 'aeiouy'\n",
    "def hyphen8(word):\n",
    "   first_vowels = list(filter(lambda x: x!=-1, [word.lower().find(v) for v in VOWELS]))\n",
    "   return '-'.join((int(abs(np.random.randn()*2))+1) * [word[:min(first_vowels)]]) + word[min(first_vowels):] if (len(word)>2 and len(first_vowels)>0 and word[0].isalpha()) and word[0].lower() not in VOWELS else word\n"
   ]
  },
  {
   "cell_type": "code",
   "execution_count": 36,
   "metadata": {},
   "outputs": [
    {
     "name": "stdout",
     "output_type": "stream",
     "text": [
      "Pr-Pr-President P-P-P-Pitzer, mrs. D-D-D-D-Director Ch-Ch-Ch-Ch-Chief, S-SENATOR, L-L-L-Legislator J-John, S-Senator Gregory, and C-C-Congressman Smith, MR mitchell, Mr CHIME, r-r-researchers, Distinguished GUESTS, AND L-L-Lady AND G-GENTLEMEN:\n",
      "\n",
      "I APPRECIATE your PR-PRESIDENT L-L-LEAST th-th-theY s-s-s-someONE aN H-H-H-HONORS V-VISIT ASSOCIATE, AnD Cant SH-SHOULD Ensure yoU ThAT Own LAST L-L-LECTURE WiLL be extremely briefly.\n",
      "\n",
      "ive 'm d-delighted tO be HEre, aNd Cant're Especially gr-gr-gr-gr-grateful TO m-m-must h-h-h-h-here on th-thIS OCCASION.\n",
      "\n",
      "We meet t-t-tIme ANother st-st-st-st-st-student Indicated f-f-f-foR kn-knowledge, Thr-Throughout oNE C-C-Cities s-s-suggested ANd progress, iN A N-N-Nation STATED anD STR-STRONGER, W-W-Well wE sit iN Need all th-those THR-THREE, For believe meet THR-THROUGHOUT another h-h-h-h-hour of ch-changing b-both EFFORT, W-Within a 1990s Th-The H-HOpe aNd F-F-FEAR, INTO an years ThE those KNOWLEDGE and INDIFFERENCE. tH-tH-tHe significant TH-THEIR l-l-learning d-d-d-decreases, oNE Increasing TH-TH-THeir ignorance unfolds.\n",
      "\n",
      "Spite tH-tH-tHE Str-Str-Str-Str-Str-Striking Reason th-th-thAT V-Very TH-THe ThE SCIENTISTS tH-tH-tHaT TH-THe Ever B-Been ever commonly be D-D-D-Dead and worK Yesterday, ALthough the b-because tHaT th-th-thIS N-N-Nation¹s Our SCIENCE staffing Th-ThAT H-H-Halving every 10 year w-w-within ONE RATE thE GR-GR-GR-GROWTH much thAn Five T-TIme tH-tHaT TH-THe our Inhabitants w-well ONE ENTIRE, H-HOwever WHich, Th-The Immense Coastline oF of unknown w-wIth Th-The unanswerable B-BOth entire wood but there outstrips our Minds FLUENCY.\n",
      "\n",
      "WIthout M-M-MaN YOu C-COMPLETELY GR-GR-GR-GR-GRASP how F-F-FAR Well h-hOW Easy we h-haVe TH-TH-TH-TH-THey, b-b-but c-c-condense, İf 'LL W-WILL, entire 15,000 d-decade and man¹s RECORD h-history Into Another WHEN SPAN oF B-B-B-B-B-BUt ANOTHER remaining-TWENTIETH. explained Into s-s-some t-terms, THERE TH-TH-THink r-reAlly Enough ABout th-the Second 60 YEAR, unless @ oF end the th-they advances M-MAn Came Learned m-m-mAke use OF Skin tH-tHe ANIMALS Able material th-they. th-then WH-WH-WHAt 21 YEARs M-Months, Under thIS St-St-Standard, g-gENTleman r-remained Th-ThiS F-F-F-FATHER c-caves c-c-c-c-cAN STR-STRUCTURES THose s-sorts THe HOMELESS. N-NOT f-five Decades D-D-DAYS woman l-learned C-C-Can Write And USe A ITEM anD T-Tire. Chr-Chr-Chr-Christianity B-Beginning l-less Even Tw-Tw-Tw-Two D-D-Decades m-m-months. Th-Th-Th-The INKJET PR-PR-PR-PRESSES CAME tHis year, AND Th-Then l-l-less th-thAn TW-TW-TWO D-D-D-DAYS YEARS, pr-prior Th-Th-Th-ThIs r-r-rest 20-Year SP-SP-SPANNED of h-h-humanity H-H-History, OnE st-st-steam H-H-HORSEPOWER pr-provide OnE Latest S-SOURCES of Electric.\n",
      "\n",
      "isaac eXplore ENTIRE m-m-m-meant oF gr-gravity. L-L-L-L-L-L-L-LAST WEEKS ELECTRICAL l-lighting B-BOth T-Telephones W-WELL Cars AnD AIRCRAFTS B-B-Becoming availability. NoT W-WEEK D-D-D-DAy did we Development P-P-PENICILLIN and T-Television ANd N-N-NUKES p-power, BotH ALREADY S-S-SURE USa's C-C-CURRENT SP-SP-SPACECRAFT succeed throughout approaching n-neptune, Kn-Know WOULD C-COULD LITERALLY r-reaching tHE stars th-th-then 4AM Night.\n",
      "\n",
      "thIs iS A stunning sl-sl-slow, BOTH as AN P-P-P-P-PACE yOuSH-SH-SHOULD helps b-b-buT M-M-MAke current ILLS aS It d-d-dispels my, L-LATEST HYPOCRISY, Newest problems, N-N-NEw D-D-DANGEROUS. Surely th-thE CLOSING BR-BREATH-TAKING of large Promises L-L-LoW C-C-COST and H-HARDSHIPS, aS BUt being L-L-Low r-r-r-r-reward.\n",
      "\n",
      "R-R-Really It IS sh-should surprisingly tH-tHaT SOME w-w-would They We ST-ST-ST-STAYS Wh-Where We are ANOTHER T-T-T-T-Tiny longer To rest, to Waiting. Th-Th-Th-Though TH-TH-THIS C-C-CITY of Austin, Th-Th-ThIs N-Nation of Tx, Th-Th-ThIs w-w-world aLl onE UNITED State w-was nOt c-c-c-c-constructed Edited th-th-th-th-these WHO W-WOKE and R-R-RESTING anD H-Hoped CAn L-LOOKS out they. THiS nation W-W-WAS c-c-c-conquered by TH-TH-THese Wh-WhO settled FORWARDS--anD B-B-BUT C-C-C-CAN sp-space.\n",
      "\n",
      "R-R-ROBERT Br-Br-Br-Br-Bradford, SP-SPOKEN thr-thr-throughout 1635 TH-THe tH-tH-tHE f-f-founders th-th-th-thE Th-Th-The PL-PLYMOUTH bays C-C-COLONIES, s-s-s-says Th-ThaT aLL g-g-g-g-g-g-good AND w-w-w-worthy C-C-Consequences are accompanied W-W-W-With gr-great D-D-D-D-D-D-Difficulty, W-WEll Either Must Not enterprised w-with Overcome anD Accountable c-c-courage.\n",
      "\n",
      "If tHis C-C-Capsules HIStory All OUR IMPROVEMENT T-T-TEACH We ANything, iT is th-th-thAT G-GUY, in Him d-destiny f-f-f-foR knowledge AND Efforts, Which determining ANd c-c-cAnn-noT be Dissuaded. Th-Th-The d-discovery oF SP-SP-SP-SP-SPACES CAn going ahead, WH-WH-WHETHER We j-j-j-joining W-W-WITHIN B-B-But either sh-sh-should, WEll iT Is SAme oF onE GREAT tales TH-TH-THe Those Time, B-BOth without "
     ]
    },
    {
     "ename": "KeyboardInterrupt",
     "evalue": "",
     "output_type": "error",
     "traceback": [
      "\u001b[0;31m---------------------------------------------------------------------------\u001b[0m",
      "\u001b[0;31mKeyboardInterrupt\u001b[0m                         Traceback (most recent call last)",
      "\u001b[0;32m<ipython-input-36-8f3e35ab1d5a>\u001b[0m in \u001b[0;36m<module>\u001b[0;34m\u001b[0m\n\u001b[1;32m      8\u001b[0m         \u001b[0mdebug\u001b[0m \u001b[0;34m=\u001b[0m \u001b[0;32mFalse\u001b[0m\u001b[0;34m\u001b[0m\u001b[0;34m\u001b[0m\u001b[0m\n\u001b[1;32m      9\u001b[0m         \u001b[0mdebug_data\u001b[0m \u001b[0;34m=\u001b[0m \u001b[0;34mf'({repr(token.text)}, {wonkiness}, {alter(token, wonkiness).shape_})'\u001b[0m \u001b[0;32mif\u001b[0m \u001b[0mdebug\u001b[0m \u001b[0;32melse\u001b[0m \u001b[0;34m''\u001b[0m\u001b[0;34m\u001b[0m\u001b[0;34m\u001b[0m\u001b[0m\n\u001b[0;32m---> 10\u001b[0;31m         \u001b[0mprint\u001b[0m\u001b[0;34m(\u001b[0m\u001b[0mhyphen8\u001b[0m\u001b[0;34m(\u001b[0m\u001b[0malter\u001b[0m\u001b[0;34m(\u001b[0m\u001b[0mtoken\u001b[0m\u001b[0;34m,\u001b[0m \u001b[0mwonkiness\u001b[0m\u001b[0;34m)\u001b[0m\u001b[0;34m.\u001b[0m\u001b[0mtext\u001b[0m\u001b[0;34m)\u001b[0m \u001b[0;34m+\u001b[0m \u001b[0mdebug_data\u001b[0m\u001b[0;34m,\u001b[0m \u001b[0mend\u001b[0m\u001b[0;34m=\u001b[0m\u001b[0mtoken\u001b[0m\u001b[0;34m.\u001b[0m\u001b[0mwhitespace_\u001b[0m\u001b[0;34m)\u001b[0m\u001b[0;34m\u001b[0m\u001b[0;34m\u001b[0m\u001b[0m\n\u001b[0m",
      "\u001b[0;32m<ipython-input-31-61149bf6b709>\u001b[0m in \u001b[0;36malter\u001b[0;34m(token, wonkiness)\u001b[0m\n\u001b[1;32m      3\u001b[0m     \u001b[0;32mif\u001b[0m \u001b[0mwonkiness\u001b[0m \u001b[0;34m==\u001b[0m \u001b[0;36m0\u001b[0m\u001b[0;34m:\u001b[0m\u001b[0;34m\u001b[0m\u001b[0;34m\u001b[0m\u001b[0m\n\u001b[1;32m      4\u001b[0m         \u001b[0;32mreturn\u001b[0m \u001b[0mnlp\u001b[0m\u001b[0;34m.\u001b[0m\u001b[0mvocab\u001b[0m\u001b[0;34m[\u001b[0m\u001b[0mtoken\u001b[0m\u001b[0;34m.\u001b[0m\u001b[0mtext\u001b[0m\u001b[0;34m]\u001b[0m\u001b[0;34m\u001b[0m\u001b[0;34m\u001b[0m\u001b[0m\n\u001b[0;32m----> 5\u001b[0;31m     \u001b[0mkey\u001b[0m \u001b[0;34m=\u001b[0m \u001b[0mnlp\u001b[0m\u001b[0;34m.\u001b[0m\u001b[0mvocab\u001b[0m\u001b[0;34m.\u001b[0m\u001b[0mvectors\u001b[0m\u001b[0;34m.\u001b[0m\u001b[0mmost_similar\u001b[0m\u001b[0;34m(\u001b[0m\u001b[0mvec\u001b[0m\u001b[0;34m,\u001b[0m \u001b[0mn\u001b[0m\u001b[0;34m=\u001b[0m\u001b[0mwonkiness\u001b[0m\u001b[0;34m)\u001b[0m\u001b[0;34m[\u001b[0m\u001b[0;36m0\u001b[0m\u001b[0;34m]\u001b[0m\u001b[0;34m[\u001b[0m\u001b[0;34m:\u001b[0m\u001b[0;34m,\u001b[0m \u001b[0mwonkiness\u001b[0m\u001b[0;34m-\u001b[0m\u001b[0;36m1\u001b[0m\u001b[0;34m]\u001b[0m\u001b[0;34m\u001b[0m\u001b[0;34m\u001b[0m\u001b[0m\n\u001b[0m\u001b[1;32m      6\u001b[0m     \u001b[0;32mreturn\u001b[0m \u001b[0mnlp\u001b[0m\u001b[0;34m.\u001b[0m\u001b[0mvocab\u001b[0m\u001b[0;34m[\u001b[0m\u001b[0mkey\u001b[0m\u001b[0;34m]\u001b[0m\u001b[0;34m\u001b[0m\u001b[0;34m\u001b[0m\u001b[0m\n",
      "\u001b[0;32mvectors.pyx\u001b[0m in \u001b[0;36mspacy.vectors.Vectors.most_similar\u001b[0;34m()\u001b[0m\n",
      "\u001b[0;32m<__array_function__ internals>\u001b[0m in \u001b[0;36mnorm\u001b[0;34m(*args, **kwargs)\u001b[0m\n",
      "\u001b[0;32m~/.conda/envs/affected/lib/python3.7/site-packages/numpy/linalg/linalg.py\u001b[0m in \u001b[0;36mnorm\u001b[0;34m(x, ord, axis, keepdims)\u001b[0m\n\u001b[1;32m   2504\u001b[0m         \u001b[0;32melif\u001b[0m \u001b[0mord\u001b[0m \u001b[0;32mis\u001b[0m \u001b[0;32mNone\u001b[0m \u001b[0;32mor\u001b[0m \u001b[0mord\u001b[0m \u001b[0;34m==\u001b[0m \u001b[0;36m2\u001b[0m\u001b[0;34m:\u001b[0m\u001b[0;34m\u001b[0m\u001b[0;34m\u001b[0m\u001b[0m\n\u001b[1;32m   2505\u001b[0m             \u001b[0;31m# special case for speedup\u001b[0m\u001b[0;34m\u001b[0m\u001b[0;34m\u001b[0m\u001b[0;34m\u001b[0m\u001b[0m\n\u001b[0;32m-> 2506\u001b[0;31m             \u001b[0ms\u001b[0m \u001b[0;34m=\u001b[0m \u001b[0;34m(\u001b[0m\u001b[0mx\u001b[0m\u001b[0;34m.\u001b[0m\u001b[0mconj\u001b[0m\u001b[0;34m(\u001b[0m\u001b[0;34m)\u001b[0m \u001b[0;34m*\u001b[0m \u001b[0mx\u001b[0m\u001b[0;34m)\u001b[0m\u001b[0;34m.\u001b[0m\u001b[0mreal\u001b[0m\u001b[0;34m\u001b[0m\u001b[0;34m\u001b[0m\u001b[0m\n\u001b[0m\u001b[1;32m   2507\u001b[0m             \u001b[0;32mreturn\u001b[0m \u001b[0msqrt\u001b[0m\u001b[0;34m(\u001b[0m\u001b[0madd\u001b[0m\u001b[0;34m.\u001b[0m\u001b[0mreduce\u001b[0m\u001b[0;34m(\u001b[0m\u001b[0ms\u001b[0m\u001b[0;34m,\u001b[0m \u001b[0maxis\u001b[0m\u001b[0;34m=\u001b[0m\u001b[0maxis\u001b[0m\u001b[0;34m,\u001b[0m \u001b[0mkeepdims\u001b[0m\u001b[0;34m=\u001b[0m\u001b[0mkeepdims\u001b[0m\u001b[0;34m)\u001b[0m\u001b[0;34m)\u001b[0m\u001b[0;34m\u001b[0m\u001b[0;34m\u001b[0m\u001b[0m\n\u001b[1;32m   2508\u001b[0m         \u001b[0;32melse\u001b[0m\u001b[0;34m:\u001b[0m\u001b[0;34m\u001b[0m\u001b[0;34m\u001b[0m\u001b[0m\n",
      "\u001b[0;31mKeyboardInterrupt\u001b[0m: "
     ]
    }
   ],
   "source": [
    "with open(\"h-aha.txt\", 'r') as f:\n",
    "    np.random.seed(8)\n",
    "    text = f.read()\n",
    "    parsed = nlp(text)\n",
    "    for token in parsed:\n",
    "        variation = 10\n",
    "        wonkiness = np.abs(int(variation * np.random.randn())) if not token.is_punct and token.vector_norm > 0.5 else 0\n",
    "        debug = False\n",
    "        debug_data = f'({repr(token.text)}, {wonkiness})' if debug else ''\n",
    "        print(hyphen8(alter(token, wonkiness).text) + debug_data, end=token.whitespace_)"
   ]
  },
  {
   "cell_type": "code",
   "execution_count": 3,
   "metadata": {},
   "outputs": [],
   "source": [
    "import matplotlib.pyplot as plt"
   ]
  },
  {
   "cell_type": "code",
   "execution_count": 77,
   "metadata": {},
   "outputs": [],
   "source": [
    "def fixed_point(token, n, previous_lexeme):\n",
    "    vec = token.vector.reshape(1, -1)\n",
    "    most_sim = nlp.vocab.vectors.most_similar(vec, n=n, sort=True)\n",
    "    for key, best_row, score in zip(list(most_sim[0].T),list(most_sim[1].T),list(most_sim[2].T)):\n",
    "        if nlp.vocab[key[0]] not in previous_lexeme:\n",
    "            return (nlp.vocab[key[0]], score)\n",
    "    return fixed_point(token, 2*n, previous_lexeme)"
   ]
  },
  {
   "cell_type": "code",
   "execution_count": 78,
   "metadata": {},
   "outputs": [],
   "source": [
    "def dist(base, other):\n",
    "    return np.linalg.norm(base.vector - other.vector)"
   ]
  },
  {
   "cell_type": "code",
   "execution_count": null,
   "metadata": {},
   "outputs": [],
   "source": [
    "previous_lexeme = set()\n",
    "start = nlp.vocab[\"1\"]\n",
    "number = start\n",
    "score = [1]\n",
    "nums = []\n",
    "scores = []\n",
    "for i in range(25):\n",
    "    print(number.text, score)\n",
    "    nums.append(int(number.text))\n",
    "    scores.append(score[0])\n",
    "    previous_lexeme.add(number)\n",
    "    number, score = fixed_point(number, 10, previous_lexeme)"
   ]
  },
  {
   "cell_type": "code",
   "execution_count": 85,
   "metadata": {},
   "outputs": [
    {
     "data": {
      "image/png": "[encoded data removed]",
      "text/plain": [
       "<Figure size 432x288 with 2 Axes>"
      ]
     },
     "metadata": {
      "needs_background": "light"
     },
     "output_type": "display_data"
    }
   ],
   "source": [
    "fig, ax1 = plt.subplots()\n",
    "ax1.plot(nums)\n",
    "ax2 = ax1.twinx()\n",
    "ax2.plot(scores, c='r')\n",
    "fig.show()"
   ]
  },
  {
   "cell_type": "code",
   "execution_count": null,
   "metadata": {},
   "outputs": [],
   "source": []
  }
 ],
 "metadata": {
  "kernelspec": {
   "display_name": "Python 3",
   "language": "python",
   "name": "python3"
  },
  "language_info": {
   "codemirror_mode": {
    "name": "ipython",
    "version": 3
   },
   "file_extension": ".py",
   "mimetype": "text/x-python",
   "name": "python",
   "nbconvert_exporter": "python",
   "pygments_lexer": "ipython3",
   "version": "3.7.6"
  }
 },
 "nbformat": 4,
 "nbformat_minor": 4
}
